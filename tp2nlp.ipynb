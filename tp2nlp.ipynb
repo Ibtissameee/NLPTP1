{
 "cells": [
  {
   "cell_type": "code",
   "execution_count": 1,
   "id": "dc2d284a",
   "metadata": {
    "execution": {
     "iopub.execute_input": "2024-03-20T15:23:42.030983Z",
     "iopub.status.busy": "2024-03-20T15:23:42.029801Z",
     "iopub.status.idle": "2024-03-20T15:23:43.229904Z",
     "shell.execute_reply": "2024-03-20T15:23:43.228801Z"
    },
    "papermill": {
     "duration": 1.209471,
     "end_time": "2024-03-20T15:23:43.232385",
     "exception": false,
     "start_time": "2024-03-20T15:23:42.022914",
     "status": "completed"
    },
    "tags": []
   },
   "outputs": [
    {
     "data": {
      "text/html": [
       "<div>\n",
       "<style scoped>\n",
       "    .dataframe tbody tr th:only-of-type {\n",
       "        vertical-align: middle;\n",
       "    }\n",
       "\n",
       "    .dataframe tbody tr th {\n",
       "        vertical-align: top;\n",
       "    }\n",
       "\n",
       "    .dataframe thead th {\n",
       "        text-align: right;\n",
       "    }\n",
       "</style>\n",
       "<table border=\"1\" class=\"dataframe\">\n",
       "  <thead>\n",
       "    <tr style=\"text-align: right;\">\n",
       "      <th></th>\n",
       "      <th>fold_id</th>\n",
       "      <th>cv_tag</th>\n",
       "      <th>html_id</th>\n",
       "      <th>sent_id</th>\n",
       "      <th>text</th>\n",
       "      <th>tag</th>\n",
       "    </tr>\n",
       "  </thead>\n",
       "  <tbody>\n",
       "    <tr>\n",
       "      <th>0</th>\n",
       "      <td>0</td>\n",
       "      <td>cv000</td>\n",
       "      <td>29590</td>\n",
       "      <td>0</td>\n",
       "      <td>films adapted from comic books have had plenty...</td>\n",
       "      <td>pos</td>\n",
       "    </tr>\n",
       "    <tr>\n",
       "      <th>1</th>\n",
       "      <td>0</td>\n",
       "      <td>cv000</td>\n",
       "      <td>29590</td>\n",
       "      <td>1</td>\n",
       "      <td>for starters , it was created by alan moore ( ...</td>\n",
       "      <td>pos</td>\n",
       "    </tr>\n",
       "    <tr>\n",
       "      <th>2</th>\n",
       "      <td>0</td>\n",
       "      <td>cv000</td>\n",
       "      <td>29590</td>\n",
       "      <td>2</td>\n",
       "      <td>to say moore and campbell thoroughly researche...</td>\n",
       "      <td>pos</td>\n",
       "    </tr>\n",
       "    <tr>\n",
       "      <th>3</th>\n",
       "      <td>0</td>\n",
       "      <td>cv000</td>\n",
       "      <td>29590</td>\n",
       "      <td>3</td>\n",
       "      <td>the book ( or \" graphic novel , \" if you will ...</td>\n",
       "      <td>pos</td>\n",
       "    </tr>\n",
       "    <tr>\n",
       "      <th>4</th>\n",
       "      <td>0</td>\n",
       "      <td>cv000</td>\n",
       "      <td>29590</td>\n",
       "      <td>4</td>\n",
       "      <td>in other words , don't dismiss this film becau...</td>\n",
       "      <td>pos</td>\n",
       "    </tr>\n",
       "  </tbody>\n",
       "</table>\n",
       "</div>"
      ],
      "text/plain": [
       "   fold_id cv_tag  html_id  sent_id  \\\n",
       "0        0  cv000    29590        0   \n",
       "1        0  cv000    29590        1   \n",
       "2        0  cv000    29590        2   \n",
       "3        0  cv000    29590        3   \n",
       "4        0  cv000    29590        4   \n",
       "\n",
       "                                                text  tag  \n",
       "0  films adapted from comic books have had plenty...  pos  \n",
       "1  for starters , it was created by alan moore ( ...  pos  \n",
       "2  to say moore and campbell thoroughly researche...  pos  \n",
       "3  the book ( or \" graphic novel , \" if you will ...  pos  \n",
       "4  in other words , don't dismiss this film becau...  pos  "
      ]
     },
     "execution_count": 1,
     "metadata": {},
     "output_type": "execute_result"
    }
   ],
   "source": [
    "import pandas as pd\n",
    "import numpy as np\n",
    "\n",
    "\n",
    "full_df = pd.read_csv(\"/kaggle/input/movie-review/movie_review.csv\")\n",
    "df = full_df[[\"text\"]].copy()\n",
    "df[\"text\"] = df[\"text\"].astype(str)\n",
    "full_df.head()"
   ]
  },
  {
   "cell_type": "markdown",
   "id": "71400faa",
   "metadata": {
    "papermill": {
     "duration": 0.004472,
     "end_time": "2024-03-20T15:23:43.241869",
     "exception": false,
     "start_time": "2024-03-20T15:23:43.237397",
     "status": "completed"
    },
    "tags": []
   },
   "source": [
    "# Preprocessing des données****"
   ]
  },
  {
   "cell_type": "markdown",
   "id": "b9f4bf39",
   "metadata": {
    "papermill": {
     "duration": 0.004441,
     "end_time": "2024-03-20T15:23:43.251132",
     "exception": false,
     "start_time": "2024-03-20T15:23:43.246691",
     "status": "completed"
    },
    "tags": []
   },
   "source": [
    "Suppression des stop words"
   ]
  },
  {
   "cell_type": "code",
   "execution_count": 2,
   "id": "9d6efc8e",
   "metadata": {
    "execution": {
     "iopub.execute_input": "2024-03-20T15:23:43.262613Z",
     "iopub.status.busy": "2024-03-20T15:23:43.262208Z",
     "iopub.status.idle": "2024-03-20T15:23:45.560309Z",
     "shell.execute_reply": "2024-03-20T15:23:45.559112Z"
    },
    "papermill": {
     "duration": 2.306768,
     "end_time": "2024-03-20T15:23:45.562944",
     "exception": false,
     "start_time": "2024-03-20T15:23:43.256176",
     "status": "completed"
    },
    "tags": []
   },
   "outputs": [
    {
     "data": {
      "text/html": [
       "<div>\n",
       "<style scoped>\n",
       "    .dataframe tbody tr th:only-of-type {\n",
       "        vertical-align: middle;\n",
       "    }\n",
       "\n",
       "    .dataframe tbody tr th {\n",
       "        vertical-align: top;\n",
       "    }\n",
       "\n",
       "    .dataframe thead th {\n",
       "        text-align: right;\n",
       "    }\n",
       "</style>\n",
       "<table border=\"1\" class=\"dataframe\">\n",
       "  <thead>\n",
       "    <tr style=\"text-align: right;\">\n",
       "      <th></th>\n",
       "      <th>text</th>\n",
       "      <th>text_wo_stop_words</th>\n",
       "    </tr>\n",
       "  </thead>\n",
       "  <tbody>\n",
       "    <tr>\n",
       "      <th>0</th>\n",
       "      <td>films adapted from comic books have had plenty...</td>\n",
       "      <td>films adapted comic books plenty success , whe...</td>\n",
       "    </tr>\n",
       "    <tr>\n",
       "      <th>1</th>\n",
       "      <td>for starters , it was created by alan moore ( ...</td>\n",
       "      <td>starters , created alan moore ( eddie campbell...</td>\n",
       "    </tr>\n",
       "    <tr>\n",
       "      <th>2</th>\n",
       "      <td>to say moore and campbell thoroughly researche...</td>\n",
       "      <td>say moore campbell thoroughly researched subje...</td>\n",
       "    </tr>\n",
       "    <tr>\n",
       "      <th>3</th>\n",
       "      <td>the book ( or \" graphic novel , \" if you will ...</td>\n",
       "      <td>book ( \" graphic novel , \" ) 500 pages long in...</td>\n",
       "    </tr>\n",
       "    <tr>\n",
       "      <th>4</th>\n",
       "      <td>in other words , don't dismiss this film becau...</td>\n",
       "      <td>words , dismiss film source .</td>\n",
       "    </tr>\n",
       "  </tbody>\n",
       "</table>\n",
       "</div>"
      ],
      "text/plain": [
       "                                                text  \\\n",
       "0  films adapted from comic books have had plenty...   \n",
       "1  for starters , it was created by alan moore ( ...   \n",
       "2  to say moore and campbell thoroughly researche...   \n",
       "3  the book ( or \" graphic novel , \" if you will ...   \n",
       "4  in other words , don't dismiss this film becau...   \n",
       "\n",
       "                                  text_wo_stop_words  \n",
       "0  films adapted comic books plenty success , whe...  \n",
       "1  starters , created alan moore ( eddie campbell...  \n",
       "2  say moore campbell thoroughly researched subje...  \n",
       "3  book ( \" graphic novel , \" ) 500 pages long in...  \n",
       "4                      words , dismiss film source .  "
      ]
     },
     "execution_count": 2,
     "metadata": {},
     "output_type": "execute_result"
    }
   ],
   "source": [
    "from nltk.corpus import stopwords\n",
    "\", \".join(stopwords.words('english'))\n",
    "stop_words = set(stopwords.words('english')) \n",
    "def remove_stop_words(text):\n",
    "    return \" \".join([word for word in str(text).split() if word not in stop_words])\n",
    "df[\"text_wo_stop_words\"] = df[\"text\"].apply(lambda text: remove_stop_words(text))\n",
    "df.head()"
   ]
  },
  {
   "cell_type": "markdown",
   "id": "f6bb030f",
   "metadata": {
    "papermill": {
     "duration": 0.004686,
     "end_time": "2024-03-20T15:23:45.572832",
     "exception": false,
     "start_time": "2024-03-20T15:23:45.568146",
     "status": "completed"
    },
    "tags": []
   },
   "source": [
    "mise en minuscule"
   ]
  },
  {
   "cell_type": "code",
   "execution_count": 3,
   "id": "5da4bd0b",
   "metadata": {
    "execution": {
     "iopub.execute_input": "2024-03-20T15:23:45.584341Z",
     "iopub.status.busy": "2024-03-20T15:23:45.583955Z",
     "iopub.status.idle": "2024-03-20T15:23:45.619240Z",
     "shell.execute_reply": "2024-03-20T15:23:45.618055Z"
    },
    "papermill": {
     "duration": 0.043678,
     "end_time": "2024-03-20T15:23:45.621515",
     "exception": false,
     "start_time": "2024-03-20T15:23:45.577837",
     "status": "completed"
    },
    "tags": []
   },
   "outputs": [
    {
     "data": {
      "text/html": [
       "<div>\n",
       "<style scoped>\n",
       "    .dataframe tbody tr th:only-of-type {\n",
       "        vertical-align: middle;\n",
       "    }\n",
       "\n",
       "    .dataframe tbody tr th {\n",
       "        vertical-align: top;\n",
       "    }\n",
       "\n",
       "    .dataframe thead th {\n",
       "        text-align: right;\n",
       "    }\n",
       "</style>\n",
       "<table border=\"1\" class=\"dataframe\">\n",
       "  <thead>\n",
       "    <tr style=\"text-align: right;\">\n",
       "      <th></th>\n",
       "      <th>text</th>\n",
       "      <th>text_wo_stop_words</th>\n",
       "      <th>text_lower</th>\n",
       "    </tr>\n",
       "  </thead>\n",
       "  <tbody>\n",
       "    <tr>\n",
       "      <th>0</th>\n",
       "      <td>films adapted from comic books have had plenty...</td>\n",
       "      <td>films adapted comic books plenty success , whe...</td>\n",
       "      <td>films adapted comic books plenty success , whe...</td>\n",
       "    </tr>\n",
       "    <tr>\n",
       "      <th>1</th>\n",
       "      <td>for starters , it was created by alan moore ( ...</td>\n",
       "      <td>starters , created alan moore ( eddie campbell...</td>\n",
       "      <td>starters , created alan moore ( eddie campbell...</td>\n",
       "    </tr>\n",
       "    <tr>\n",
       "      <th>2</th>\n",
       "      <td>to say moore and campbell thoroughly researche...</td>\n",
       "      <td>say moore campbell thoroughly researched subje...</td>\n",
       "      <td>say moore campbell thoroughly researched subje...</td>\n",
       "    </tr>\n",
       "    <tr>\n",
       "      <th>3</th>\n",
       "      <td>the book ( or \" graphic novel , \" if you will ...</td>\n",
       "      <td>book ( \" graphic novel , \" ) 500 pages long in...</td>\n",
       "      <td>book ( \" graphic novel , \" ) 500 pages long in...</td>\n",
       "    </tr>\n",
       "    <tr>\n",
       "      <th>4</th>\n",
       "      <td>in other words , don't dismiss this film becau...</td>\n",
       "      <td>words , dismiss film source .</td>\n",
       "      <td>words , dismiss film source .</td>\n",
       "    </tr>\n",
       "  </tbody>\n",
       "</table>\n",
       "</div>"
      ],
      "text/plain": [
       "                                                text  \\\n",
       "0  films adapted from comic books have had plenty...   \n",
       "1  for starters , it was created by alan moore ( ...   \n",
       "2  to say moore and campbell thoroughly researche...   \n",
       "3  the book ( or \" graphic novel , \" if you will ...   \n",
       "4  in other words , don't dismiss this film becau...   \n",
       "\n",
       "                                  text_wo_stop_words  \\\n",
       "0  films adapted comic books plenty success , whe...   \n",
       "1  starters , created alan moore ( eddie campbell...   \n",
       "2  say moore campbell thoroughly researched subje...   \n",
       "3  book ( \" graphic novel , \" ) 500 pages long in...   \n",
       "4                      words , dismiss film source .   \n",
       "\n",
       "                                          text_lower  \n",
       "0  films adapted comic books plenty success , whe...  \n",
       "1  starters , created alan moore ( eddie campbell...  \n",
       "2  say moore campbell thoroughly researched subje...  \n",
       "3  book ( \" graphic novel , \" ) 500 pages long in...  \n",
       "4                      words , dismiss film source .  "
      ]
     },
     "execution_count": 3,
     "metadata": {},
     "output_type": "execute_result"
    }
   ],
   "source": [
    "df[\"text_lower\"] = df[\"text_wo_stop_words\"].str.lower()\n",
    "df.head()"
   ]
  },
  {
   "cell_type": "markdown",
   "id": "1c729408",
   "metadata": {
    "papermill": {
     "duration": 0.004925,
     "end_time": "2024-03-20T15:23:45.631742",
     "exception": false,
     "start_time": "2024-03-20T15:23:45.626817",
     "status": "completed"
    },
    "tags": []
   },
   "source": [
    "Suppression de ponctuation"
   ]
  },
  {
   "cell_type": "code",
   "execution_count": 4,
   "id": "afbd3e13",
   "metadata": {
    "execution": {
     "iopub.execute_input": "2024-03-20T15:23:45.643879Z",
     "iopub.status.busy": "2024-03-20T15:23:45.643177Z",
     "iopub.status.idle": "2024-03-20T15:23:45.953246Z",
     "shell.execute_reply": "2024-03-20T15:23:45.952083Z"
    },
    "papermill": {
     "duration": 0.318808,
     "end_time": "2024-03-20T15:23:45.955697",
     "exception": false,
     "start_time": "2024-03-20T15:23:45.636889",
     "status": "completed"
    },
    "tags": []
   },
   "outputs": [
    {
     "data": {
      "text/html": [
       "<div>\n",
       "<style scoped>\n",
       "    .dataframe tbody tr th:only-of-type {\n",
       "        vertical-align: middle;\n",
       "    }\n",
       "\n",
       "    .dataframe tbody tr th {\n",
       "        vertical-align: top;\n",
       "    }\n",
       "\n",
       "    .dataframe thead th {\n",
       "        text-align: right;\n",
       "    }\n",
       "</style>\n",
       "<table border=\"1\" class=\"dataframe\">\n",
       "  <thead>\n",
       "    <tr style=\"text-align: right;\">\n",
       "      <th></th>\n",
       "      <th>text</th>\n",
       "      <th>text_wo_stop_words</th>\n",
       "      <th>text_lower</th>\n",
       "      <th>preprocessed_text</th>\n",
       "    </tr>\n",
       "  </thead>\n",
       "  <tbody>\n",
       "    <tr>\n",
       "      <th>0</th>\n",
       "      <td>films adapted from comic books have had plenty...</td>\n",
       "      <td>films adapted comic books plenty success , whe...</td>\n",
       "      <td>films adapted comic books plenty success , whe...</td>\n",
       "      <td>films adapted comic books plenty success  whet...</td>\n",
       "    </tr>\n",
       "    <tr>\n",
       "      <th>1</th>\n",
       "      <td>for starters , it was created by alan moore ( ...</td>\n",
       "      <td>starters , created alan moore ( eddie campbell...</td>\n",
       "      <td>starters , created alan moore ( eddie campbell...</td>\n",
       "      <td>starters  created alan moore  eddie campbell  ...</td>\n",
       "    </tr>\n",
       "    <tr>\n",
       "      <th>2</th>\n",
       "      <td>to say moore and campbell thoroughly researche...</td>\n",
       "      <td>say moore campbell thoroughly researched subje...</td>\n",
       "      <td>say moore campbell thoroughly researched subje...</td>\n",
       "      <td>say moore campbell thoroughly researched subje...</td>\n",
       "    </tr>\n",
       "    <tr>\n",
       "      <th>3</th>\n",
       "      <td>the book ( or \" graphic novel , \" if you will ...</td>\n",
       "      <td>book ( \" graphic novel , \" ) 500 pages long in...</td>\n",
       "      <td>book ( \" graphic novel , \" ) 500 pages long in...</td>\n",
       "      <td>book   graphic novel    500 pages long include...</td>\n",
       "    </tr>\n",
       "    <tr>\n",
       "      <th>4</th>\n",
       "      <td>in other words , don't dismiss this film becau...</td>\n",
       "      <td>words , dismiss film source .</td>\n",
       "      <td>words , dismiss film source .</td>\n",
       "      <td>words  dismiss film source</td>\n",
       "    </tr>\n",
       "  </tbody>\n",
       "</table>\n",
       "</div>"
      ],
      "text/plain": [
       "                                                text  \\\n",
       "0  films adapted from comic books have had plenty...   \n",
       "1  for starters , it was created by alan moore ( ...   \n",
       "2  to say moore and campbell thoroughly researche...   \n",
       "3  the book ( or \" graphic novel , \" if you will ...   \n",
       "4  in other words , don't dismiss this film becau...   \n",
       "\n",
       "                                  text_wo_stop_words  \\\n",
       "0  films adapted comic books plenty success , whe...   \n",
       "1  starters , created alan moore ( eddie campbell...   \n",
       "2  say moore campbell thoroughly researched subje...   \n",
       "3  book ( \" graphic novel , \" ) 500 pages long in...   \n",
       "4                      words , dismiss film source .   \n",
       "\n",
       "                                          text_lower  \\\n",
       "0  films adapted comic books plenty success , whe...   \n",
       "1  starters , created alan moore ( eddie campbell...   \n",
       "2  say moore campbell thoroughly researched subje...   \n",
       "3  book ( \" graphic novel , \" ) 500 pages long in...   \n",
       "4                      words , dismiss film source .   \n",
       "\n",
       "                                   preprocessed_text  \n",
       "0  films adapted comic books plenty success  whet...  \n",
       "1  starters  created alan moore  eddie campbell  ...  \n",
       "2  say moore campbell thoroughly researched subje...  \n",
       "3  book   graphic novel    500 pages long include...  \n",
       "4                        words  dismiss film source   "
      ]
     },
     "execution_count": 4,
     "metadata": {},
     "output_type": "execute_result"
    }
   ],
   "source": [
    "import string\n",
    "punctuation = string.punctuation\n",
    "def remove_punctuation(text):\n",
    "    return text.translate(str.maketrans('', '', punctuation))\n",
    "df[\"preprocessed_text\"] = df[\"text_wo_stop_words\"].apply(lambda text: remove_punctuation(text))\n",
    "df.head()"
   ]
  },
  {
   "cell_type": "markdown",
   "id": "ccea6953",
   "metadata": {
    "papermill": {
     "duration": 0.005191,
     "end_time": "2024-03-20T15:23:45.966610",
     "exception": false,
     "start_time": "2024-03-20T15:23:45.961419",
     "status": "completed"
    },
    "tags": []
   },
   "source": [
    "# Entrainement du modèle Word2Vec"
   ]
  },
  {
   "cell_type": "code",
   "execution_count": 5,
   "id": "fcf266db",
   "metadata": {
    "execution": {
     "iopub.execute_input": "2024-03-20T15:23:45.979831Z",
     "iopub.status.busy": "2024-03-20T15:23:45.978904Z",
     "iopub.status.idle": "2024-03-20T15:23:54.226351Z",
     "shell.execute_reply": "2024-03-20T15:23:54.225126Z"
    },
    "papermill": {
     "duration": 8.25662,
     "end_time": "2024-03-20T15:23:54.228667",
     "exception": false,
     "start_time": "2024-03-20T15:23:45.972047",
     "status": "completed"
    },
    "tags": []
   },
   "outputs": [
    {
     "data": {
      "text/html": [
       "<div>\n",
       "<style scoped>\n",
       "    .dataframe tbody tr th:only-of-type {\n",
       "        vertical-align: middle;\n",
       "    }\n",
       "\n",
       "    .dataframe tbody tr th {\n",
       "        vertical-align: top;\n",
       "    }\n",
       "\n",
       "    .dataframe thead th {\n",
       "        text-align: right;\n",
       "    }\n",
       "</style>\n",
       "<table border=\"1\" class=\"dataframe\">\n",
       "  <thead>\n",
       "    <tr style=\"text-align: right;\">\n",
       "      <th></th>\n",
       "      <th>text</th>\n",
       "      <th>text_wo_stop_words</th>\n",
       "      <th>text_lower</th>\n",
       "      <th>preprocessed_text</th>\n",
       "      <th>tokenized_text</th>\n",
       "    </tr>\n",
       "  </thead>\n",
       "  <tbody>\n",
       "    <tr>\n",
       "      <th>0</th>\n",
       "      <td>films adapted from comic books have had plenty...</td>\n",
       "      <td>films adapted comic books plenty success , whe...</td>\n",
       "      <td>films adapted comic books plenty success , whe...</td>\n",
       "      <td>films adapted comic books plenty success  whet...</td>\n",
       "      <td>[films, adapted, comic, books, plenty, success...</td>\n",
       "    </tr>\n",
       "    <tr>\n",
       "      <th>1</th>\n",
       "      <td>for starters , it was created by alan moore ( ...</td>\n",
       "      <td>starters , created alan moore ( eddie campbell...</td>\n",
       "      <td>starters , created alan moore ( eddie campbell...</td>\n",
       "      <td>starters  created alan moore  eddie campbell  ...</td>\n",
       "      <td>[starters, created, alan, moore, eddie, campbe...</td>\n",
       "    </tr>\n",
       "    <tr>\n",
       "      <th>2</th>\n",
       "      <td>to say moore and campbell thoroughly researche...</td>\n",
       "      <td>say moore campbell thoroughly researched subje...</td>\n",
       "      <td>say moore campbell thoroughly researched subje...</td>\n",
       "      <td>say moore campbell thoroughly researched subje...</td>\n",
       "      <td>[say, moore, campbell, thoroughly, researched,...</td>\n",
       "    </tr>\n",
       "    <tr>\n",
       "      <th>3</th>\n",
       "      <td>the book ( or \" graphic novel , \" if you will ...</td>\n",
       "      <td>book ( \" graphic novel , \" ) 500 pages long in...</td>\n",
       "      <td>book ( \" graphic novel , \" ) 500 pages long in...</td>\n",
       "      <td>book   graphic novel    500 pages long include...</td>\n",
       "      <td>[book, graphic, novel, 500, pages, long, inclu...</td>\n",
       "    </tr>\n",
       "    <tr>\n",
       "      <th>4</th>\n",
       "      <td>in other words , don't dismiss this film becau...</td>\n",
       "      <td>words , dismiss film source .</td>\n",
       "      <td>words , dismiss film source .</td>\n",
       "      <td>words  dismiss film source</td>\n",
       "      <td>[words, dismiss, film, source]</td>\n",
       "    </tr>\n",
       "  </tbody>\n",
       "</table>\n",
       "</div>"
      ],
      "text/plain": [
       "                                                text  \\\n",
       "0  films adapted from comic books have had plenty...   \n",
       "1  for starters , it was created by alan moore ( ...   \n",
       "2  to say moore and campbell thoroughly researche...   \n",
       "3  the book ( or \" graphic novel , \" if you will ...   \n",
       "4  in other words , don't dismiss this film becau...   \n",
       "\n",
       "                                  text_wo_stop_words  \\\n",
       "0  films adapted comic books plenty success , whe...   \n",
       "1  starters , created alan moore ( eddie campbell...   \n",
       "2  say moore campbell thoroughly researched subje...   \n",
       "3  book ( \" graphic novel , \" ) 500 pages long in...   \n",
       "4                      words , dismiss film source .   \n",
       "\n",
       "                                          text_lower  \\\n",
       "0  films adapted comic books plenty success , whe...   \n",
       "1  starters , created alan moore ( eddie campbell...   \n",
       "2  say moore campbell thoroughly researched subje...   \n",
       "3  book ( \" graphic novel , \" ) 500 pages long in...   \n",
       "4                      words , dismiss film source .   \n",
       "\n",
       "                                   preprocessed_text  \\\n",
       "0  films adapted comic books plenty success  whet...   \n",
       "1  starters  created alan moore  eddie campbell  ...   \n",
       "2  say moore campbell thoroughly researched subje...   \n",
       "3  book   graphic novel    500 pages long include...   \n",
       "4                        words  dismiss film source    \n",
       "\n",
       "                                      tokenized_text  \n",
       "0  [films, adapted, comic, books, plenty, success...  \n",
       "1  [starters, created, alan, moore, eddie, campbe...  \n",
       "2  [say, moore, campbell, thoroughly, researched,...  \n",
       "3  [book, graphic, novel, 500, pages, long, inclu...  \n",
       "4                     [words, dismiss, film, source]  "
      ]
     },
     "execution_count": 5,
     "metadata": {},
     "output_type": "execute_result"
    }
   ],
   "source": [
    "from nltk.tokenize import word_tokenize\n",
    "\n",
    "df[\"tokenized_text\"] = df[\"preprocessed_text\"].apply(word_tokenize)\n",
    "df.head()"
   ]
  },
  {
   "cell_type": "code",
   "execution_count": 6,
   "id": "921adc39",
   "metadata": {
    "execution": {
     "iopub.execute_input": "2024-03-20T15:23:54.241782Z",
     "iopub.status.busy": "2024-03-20T15:23:54.241376Z",
     "iopub.status.idle": "2024-03-20T15:24:12.145084Z",
     "shell.execute_reply": "2024-03-20T15:24:12.143986Z"
    },
    "papermill": {
     "duration": 17.913129,
     "end_time": "2024-03-20T15:24:12.147595",
     "exception": false,
     "start_time": "2024-03-20T15:23:54.234466",
     "status": "completed"
    },
    "tags": []
   },
   "outputs": [
    {
     "data": {
      "text/html": [
       "<div>\n",
       "<style scoped>\n",
       "    .dataframe tbody tr th:only-of-type {\n",
       "        vertical-align: middle;\n",
       "    }\n",
       "\n",
       "    .dataframe tbody tr th {\n",
       "        vertical-align: top;\n",
       "    }\n",
       "\n",
       "    .dataframe thead th {\n",
       "        text-align: right;\n",
       "    }\n",
       "</style>\n",
       "<table border=\"1\" class=\"dataframe\">\n",
       "  <thead>\n",
       "    <tr style=\"text-align: right;\">\n",
       "      <th></th>\n",
       "      <th>text</th>\n",
       "      <th>text_wo_stop_words</th>\n",
       "      <th>text_lower</th>\n",
       "      <th>preprocessed_text</th>\n",
       "      <th>tokenized_text</th>\n",
       "      <th>word_vectors</th>\n",
       "    </tr>\n",
       "  </thead>\n",
       "  <tbody>\n",
       "    <tr>\n",
       "      <th>0</th>\n",
       "      <td>films adapted from comic books have had plenty...</td>\n",
       "      <td>films adapted comic books plenty success , whe...</td>\n",
       "      <td>films adapted comic books plenty success , whe...</td>\n",
       "      <td>films adapted comic books plenty success  whet...</td>\n",
       "      <td>[films, adapted, comic, books, plenty, success...</td>\n",
       "      <td>[[-1.3475376, 0.36015347, 0.97685087, 1.121585...</td>\n",
       "    </tr>\n",
       "    <tr>\n",
       "      <th>1</th>\n",
       "      <td>for starters , it was created by alan moore ( ...</td>\n",
       "      <td>starters , created alan moore ( eddie campbell...</td>\n",
       "      <td>starters , created alan moore ( eddie campbell...</td>\n",
       "      <td>starters  created alan moore  eddie campbell  ...</td>\n",
       "      <td>[starters, created, alan, moore, eddie, campbe...</td>\n",
       "      <td>[[-0.036644395, 0.022181867, 0.029035307, -0.0...</td>\n",
       "    </tr>\n",
       "    <tr>\n",
       "      <th>2</th>\n",
       "      <td>to say moore and campbell thoroughly researche...</td>\n",
       "      <td>say moore campbell thoroughly researched subje...</td>\n",
       "      <td>say moore campbell thoroughly researched subje...</td>\n",
       "      <td>say moore campbell thoroughly researched subje...</td>\n",
       "      <td>[say, moore, campbell, thoroughly, researched,...</td>\n",
       "      <td>[[-0.77719355, 1.0566903, 0.2813472, 0.2212944...</td>\n",
       "    </tr>\n",
       "    <tr>\n",
       "      <th>3</th>\n",
       "      <td>the book ( or \" graphic novel , \" if you will ...</td>\n",
       "      <td>book ( \" graphic novel , \" ) 500 pages long in...</td>\n",
       "      <td>book ( \" graphic novel , \" ) 500 pages long in...</td>\n",
       "      <td>book   graphic novel    500 pages long include...</td>\n",
       "      <td>[book, graphic, novel, 500, pages, long, inclu...</td>\n",
       "      <td>[[-0.5714428, 0.31936356, 0.62781966, 0.051621...</td>\n",
       "    </tr>\n",
       "    <tr>\n",
       "      <th>4</th>\n",
       "      <td>in other words , don't dismiss this film becau...</td>\n",
       "      <td>words , dismiss film source .</td>\n",
       "      <td>words , dismiss film source .</td>\n",
       "      <td>words  dismiss film source</td>\n",
       "      <td>[words, dismiss, film, source]</td>\n",
       "      <td>[[-0.40952197, 0.48260692, 0.39049065, -0.0019...</td>\n",
       "    </tr>\n",
       "  </tbody>\n",
       "</table>\n",
       "</div>"
      ],
      "text/plain": [
       "                                                text  \\\n",
       "0  films adapted from comic books have had plenty...   \n",
       "1  for starters , it was created by alan moore ( ...   \n",
       "2  to say moore and campbell thoroughly researche...   \n",
       "3  the book ( or \" graphic novel , \" if you will ...   \n",
       "4  in other words , don't dismiss this film becau...   \n",
       "\n",
       "                                  text_wo_stop_words  \\\n",
       "0  films adapted comic books plenty success , whe...   \n",
       "1  starters , created alan moore ( eddie campbell...   \n",
       "2  say moore campbell thoroughly researched subje...   \n",
       "3  book ( \" graphic novel , \" ) 500 pages long in...   \n",
       "4                      words , dismiss film source .   \n",
       "\n",
       "                                          text_lower  \\\n",
       "0  films adapted comic books plenty success , whe...   \n",
       "1  starters , created alan moore ( eddie campbell...   \n",
       "2  say moore campbell thoroughly researched subje...   \n",
       "3  book ( \" graphic novel , \" ) 500 pages long in...   \n",
       "4                      words , dismiss film source .   \n",
       "\n",
       "                                   preprocessed_text  \\\n",
       "0  films adapted comic books plenty success  whet...   \n",
       "1  starters  created alan moore  eddie campbell  ...   \n",
       "2  say moore campbell thoroughly researched subje...   \n",
       "3  book   graphic novel    500 pages long include...   \n",
       "4                        words  dismiss film source    \n",
       "\n",
       "                                      tokenized_text  \\\n",
       "0  [films, adapted, comic, books, plenty, success...   \n",
       "1  [starters, created, alan, moore, eddie, campbe...   \n",
       "2  [say, moore, campbell, thoroughly, researched,...   \n",
       "3  [book, graphic, novel, 500, pages, long, inclu...   \n",
       "4                     [words, dismiss, film, source]   \n",
       "\n",
       "                                        word_vectors  \n",
       "0  [[-1.3475376, 0.36015347, 0.97685087, 1.121585...  \n",
       "1  [[-0.036644395, 0.022181867, 0.029035307, -0.0...  \n",
       "2  [[-0.77719355, 1.0566903, 0.2813472, 0.2212944...  \n",
       "3  [[-0.5714428, 0.31936356, 0.62781966, 0.051621...  \n",
       "4  [[-0.40952197, 0.48260692, 0.39049065, -0.0019...  "
      ]
     },
     "execution_count": 6,
     "metadata": {},
     "output_type": "execute_result"
    }
   ],
   "source": [
    "from gensim.models import Word2Vec\n",
    "model =  Word2Vec(sentences = df[\"tokenized_text\"], vector_size=100, window=5, min_count=1, workers=4)\n",
    "df[\"word_vectors\"] = None\n",
    "for i, tokenized_text in enumerate(df[\"tokenized_text\"]):\n",
    "    word_vectors = []\n",
    "    for token in tokenized_text:\n",
    "        if token in model.wv:\n",
    "            word_vector = model.wv[token]\n",
    "            word_vectors.append(word_vector)\n",
    "    df.at[i, 'word_vectors'] = word_vectors\n",
    "df.head()"
   ]
  },
  {
   "cell_type": "markdown",
   "id": "58dc5999",
   "metadata": {
    "papermill": {
     "duration": 0.005737,
     "end_time": "2024-03-20T15:24:12.159608",
     "exception": false,
     "start_time": "2024-03-20T15:24:12.153871",
     "status": "completed"
    },
    "tags": []
   },
   "source": [
    "# Vectorisation des reviews de movies"
   ]
  },
  {
   "cell_type": "code",
   "execution_count": 7,
   "id": "d99759c5",
   "metadata": {
    "execution": {
     "iopub.execute_input": "2024-03-20T15:24:12.173334Z",
     "iopub.status.busy": "2024-03-20T15:24:12.172740Z",
     "iopub.status.idle": "2024-03-20T15:24:15.592355Z",
     "shell.execute_reply": "2024-03-20T15:24:15.591119Z"
    },
    "papermill": {
     "duration": 3.429256,
     "end_time": "2024-03-20T15:24:15.594784",
     "exception": false,
     "start_time": "2024-03-20T15:24:12.165528",
     "status": "completed"
    },
    "tags": []
   },
   "outputs": [
    {
     "data": {
      "text/html": [
       "<div>\n",
       "<style scoped>\n",
       "    .dataframe tbody tr th:only-of-type {\n",
       "        vertical-align: middle;\n",
       "    }\n",
       "\n",
       "    .dataframe tbody tr th {\n",
       "        vertical-align: top;\n",
       "    }\n",
       "\n",
       "    .dataframe thead th {\n",
       "        text-align: right;\n",
       "    }\n",
       "</style>\n",
       "<table border=\"1\" class=\"dataframe\">\n",
       "  <thead>\n",
       "    <tr style=\"text-align: right;\">\n",
       "      <th></th>\n",
       "      <th>text</th>\n",
       "      <th>text_wo_stop_words</th>\n",
       "      <th>text_lower</th>\n",
       "      <th>preprocessed_text</th>\n",
       "      <th>tokenized_text</th>\n",
       "      <th>word_vectors</th>\n",
       "      <th>review_vector</th>\n",
       "    </tr>\n",
       "  </thead>\n",
       "  <tbody>\n",
       "    <tr>\n",
       "      <th>0</th>\n",
       "      <td>films adapted from comic books have had plenty...</td>\n",
       "      <td>films adapted comic books plenty success , whe...</td>\n",
       "      <td>films adapted comic books plenty success , whe...</td>\n",
       "      <td>films adapted comic books plenty success  whet...</td>\n",
       "      <td>[films, adapted, comic, books, plenty, success...</td>\n",
       "      <td>[[-1.3475376, 0.36015347, 0.97685087, 1.121585...</td>\n",
       "      <td>[-0.43396592, 0.4396303, 0.39169934, 0.0203734...</td>\n",
       "    </tr>\n",
       "    <tr>\n",
       "      <th>1</th>\n",
       "      <td>for starters , it was created by alan moore ( ...</td>\n",
       "      <td>starters , created alan moore ( eddie campbell...</td>\n",
       "      <td>starters , created alan moore ( eddie campbell...</td>\n",
       "      <td>starters  created alan moore  eddie campbell  ...</td>\n",
       "      <td>[starters, created, alan, moore, eddie, campbe...</td>\n",
       "      <td>[[-0.036644395, 0.022181867, 0.029035307, -0.0...</td>\n",
       "      <td>[-0.24824536, 0.1516818, 0.27290764, -0.088608...</td>\n",
       "    </tr>\n",
       "    <tr>\n",
       "      <th>2</th>\n",
       "      <td>to say moore and campbell thoroughly researche...</td>\n",
       "      <td>say moore campbell thoroughly researched subje...</td>\n",
       "      <td>say moore campbell thoroughly researched subje...</td>\n",
       "      <td>say moore campbell thoroughly researched subje...</td>\n",
       "      <td>[say, moore, campbell, thoroughly, researched,...</td>\n",
       "      <td>[[-0.77719355, 1.0566903, 0.2813472, 0.2212944...</td>\n",
       "      <td>[-0.4202074, 0.49539083, 0.3571534, -0.1090937...</td>\n",
       "    </tr>\n",
       "    <tr>\n",
       "      <th>3</th>\n",
       "      <td>the book ( or \" graphic novel , \" if you will ...</td>\n",
       "      <td>book ( \" graphic novel , \" ) 500 pages long in...</td>\n",
       "      <td>book ( \" graphic novel , \" ) 500 pages long in...</td>\n",
       "      <td>book   graphic novel    500 pages long include...</td>\n",
       "      <td>[book, graphic, novel, 500, pages, long, inclu...</td>\n",
       "      <td>[[-0.5714428, 0.31936356, 0.62781966, 0.051621...</td>\n",
       "      <td>[-0.27747735, 0.21758811, 0.29910684, 0.024937...</td>\n",
       "    </tr>\n",
       "    <tr>\n",
       "      <th>4</th>\n",
       "      <td>in other words , don't dismiss this film becau...</td>\n",
       "      <td>words , dismiss film source .</td>\n",
       "      <td>words , dismiss film source .</td>\n",
       "      <td>words  dismiss film source</td>\n",
       "      <td>[words, dismiss, film, source]</td>\n",
       "      <td>[[-0.40952197, 0.48260692, 0.39049065, -0.0019...</td>\n",
       "      <td>[-0.4013242, 0.30510253, 0.3875103, 0.35463953...</td>\n",
       "    </tr>\n",
       "  </tbody>\n",
       "</table>\n",
       "</div>"
      ],
      "text/plain": [
       "                                                text  \\\n",
       "0  films adapted from comic books have had plenty...   \n",
       "1  for starters , it was created by alan moore ( ...   \n",
       "2  to say moore and campbell thoroughly researche...   \n",
       "3  the book ( or \" graphic novel , \" if you will ...   \n",
       "4  in other words , don't dismiss this film becau...   \n",
       "\n",
       "                                  text_wo_stop_words  \\\n",
       "0  films adapted comic books plenty success , whe...   \n",
       "1  starters , created alan moore ( eddie campbell...   \n",
       "2  say moore campbell thoroughly researched subje...   \n",
       "3  book ( \" graphic novel , \" ) 500 pages long in...   \n",
       "4                      words , dismiss film source .   \n",
       "\n",
       "                                          text_lower  \\\n",
       "0  films adapted comic books plenty success , whe...   \n",
       "1  starters , created alan moore ( eddie campbell...   \n",
       "2  say moore campbell thoroughly researched subje...   \n",
       "3  book ( \" graphic novel , \" ) 500 pages long in...   \n",
       "4                      words , dismiss film source .   \n",
       "\n",
       "                                   preprocessed_text  \\\n",
       "0  films adapted comic books plenty success  whet...   \n",
       "1  starters  created alan moore  eddie campbell  ...   \n",
       "2  say moore campbell thoroughly researched subje...   \n",
       "3  book   graphic novel    500 pages long include...   \n",
       "4                        words  dismiss film source    \n",
       "\n",
       "                                      tokenized_text  \\\n",
       "0  [films, adapted, comic, books, plenty, success...   \n",
       "1  [starters, created, alan, moore, eddie, campbe...   \n",
       "2  [say, moore, campbell, thoroughly, researched,...   \n",
       "3  [book, graphic, novel, 500, pages, long, inclu...   \n",
       "4                     [words, dismiss, film, source]   \n",
       "\n",
       "                                        word_vectors  \\\n",
       "0  [[-1.3475376, 0.36015347, 0.97685087, 1.121585...   \n",
       "1  [[-0.036644395, 0.022181867, 0.029035307, -0.0...   \n",
       "2  [[-0.77719355, 1.0566903, 0.2813472, 0.2212944...   \n",
       "3  [[-0.5714428, 0.31936356, 0.62781966, 0.051621...   \n",
       "4  [[-0.40952197, 0.48260692, 0.39049065, -0.0019...   \n",
       "\n",
       "                                       review_vector  \n",
       "0  [-0.43396592, 0.4396303, 0.39169934, 0.0203734...  \n",
       "1  [-0.24824536, 0.1516818, 0.27290764, -0.088608...  \n",
       "2  [-0.4202074, 0.49539083, 0.3571534, -0.1090937...  \n",
       "3  [-0.27747735, 0.21758811, 0.29910684, 0.024937...  \n",
       "4  [-0.4013242, 0.30510253, 0.3875103, 0.35463953...  "
      ]
     },
     "execution_count": 7,
     "metadata": {},
     "output_type": "execute_result"
    }
   ],
   "source": [
    "df[\"review_vector\"] = None\n",
    "reviews_list = df['text'].apply(lambda x: x.split()).tolist()\n",
    "for i, word_vectors in enumerate(df[\"word_vectors\"]):\n",
    "    if len(word_vectors) > 0:\n",
    "        average_vector = np.mean(word_vectors, axis=0)\n",
    "        df.at[i, \"review_vector\"] = average_vector\n",
    "\n",
    "df.head()"
   ]
  },
  {
   "cell_type": "markdown",
   "id": "29d842d4",
   "metadata": {
    "papermill": {
     "duration": 0.005926,
     "end_time": "2024-03-20T15:24:15.607870",
     "exception": false,
     "start_time": "2024-03-20T15:24:15.601944",
     "status": "completed"
    },
    "tags": []
   },
   "source": [
    "# Division des données"
   ]
  },
  {
   "cell_type": "code",
   "execution_count": 8,
   "id": "a36cd4d8",
   "metadata": {
    "execution": {
     "iopub.execute_input": "2024-03-20T15:24:15.621921Z",
     "iopub.status.busy": "2024-03-20T15:24:15.621550Z",
     "iopub.status.idle": "2024-03-20T15:24:15.657767Z",
     "shell.execute_reply": "2024-03-20T15:24:15.656705Z"
    },
    "papermill": {
     "duration": 0.046378,
     "end_time": "2024-03-20T15:24:15.660514",
     "exception": false,
     "start_time": "2024-03-20T15:24:15.614136",
     "status": "completed"
    },
    "tags": []
   },
   "outputs": [],
   "source": [
    "from sklearn.model_selection import train_test_split\n",
    "from sklearn import preprocessing\n",
    "\n",
    "le = preprocessing.LabelEncoder()\n",
    "le.fit(full_df['tag'].unique())\n",
    "df['tag'] = le.fit_transform(full_df['tag'])\n",
    "# Définir les features  et la target \n",
    "X = df[\"review_vector\"].values\n",
    "y = df[\"tag\"].values\n",
    "\n",
    "\n",
    "#Diviser les données en train set et test set\n",
    "X_train, X_test, y_train, y_test = train_test_split(X, y, test_size=0.2, random_state=42)\n",
    "\n"
   ]
  },
  {
   "cell_type": "markdown",
   "id": "266c9c14",
   "metadata": {
    "papermill": {
     "duration": 0.00589,
     "end_time": "2024-03-20T15:24:15.672746",
     "exception": false,
     "start_time": "2024-03-20T15:24:15.666856",
     "status": "completed"
    },
    "tags": []
   },
   "source": [
    "### Construction d'un classificateur"
   ]
  },
  {
   "cell_type": "code",
   "execution_count": 9,
   "id": "87f8ba54",
   "metadata": {
    "execution": {
     "iopub.execute_input": "2024-03-20T15:24:15.687967Z",
     "iopub.status.busy": "2024-03-20T15:24:15.686866Z",
     "iopub.status.idle": "2024-03-20T15:24:15.694000Z",
     "shell.execute_reply": "2024-03-20T15:24:15.693069Z"
    },
    "papermill": {
     "duration": 0.016984,
     "end_time": "2024-03-20T15:24:15.696073",
     "exception": false,
     "start_time": "2024-03-20T15:24:15.679089",
     "status": "completed"
    },
    "tags": []
   },
   "outputs": [
    {
     "data": {
      "text/plain": [
       "'from sklearn.linear_model import LogisticRegression\\n\\nmodel = LogisticRegression()\\nmodel.fit(X_train, y_train)'"
      ]
     },
     "execution_count": 9,
     "metadata": {},
     "output_type": "execute_result"
    }
   ],
   "source": [
    "'''from sklearn.linear_model import LogisticRegression\n",
    "\n",
    "model = LogisticRegression()\n",
    "model.fit(X_train, y_train)'''"
   ]
  },
  {
   "cell_type": "markdown",
   "id": "59b401ce",
   "metadata": {
    "papermill": {
     "duration": 0.006063,
     "end_time": "2024-03-20T15:24:15.708433",
     "exception": false,
     "start_time": "2024-03-20T15:24:15.702370",
     "status": "completed"
    },
    "tags": []
   },
   "source": []
  },
  {
   "cell_type": "markdown",
   "id": "d29eceea",
   "metadata": {
    "papermill": {
     "duration": 0.006062,
     "end_time": "2024-03-20T15:24:15.720815",
     "exception": false,
     "start_time": "2024-03-20T15:24:15.714753",
     "status": "completed"
    },
    "tags": []
   },
   "source": [
    "# Evaluation du model"
   ]
  },
  {
   "cell_type": "code",
   "execution_count": 10,
   "id": "50db6225",
   "metadata": {
    "execution": {
     "iopub.execute_input": "2024-03-20T15:24:15.735393Z",
     "iopub.status.busy": "2024-03-20T15:24:15.734762Z",
     "iopub.status.idle": "2024-03-20T15:24:15.741131Z",
     "shell.execute_reply": "2024-03-20T15:24:15.739984Z"
    },
    "papermill": {
     "duration": 0.016405,
     "end_time": "2024-03-20T15:24:15.743449",
     "exception": false,
     "start_time": "2024-03-20T15:24:15.727044",
     "status": "completed"
    },
    "tags": []
   },
   "outputs": [
    {
     "data": {
      "text/plain": [
       "'y_pred=logistic_model.predict(X_test)\\nlogistic_model.score(X_test,y_test)\\n'"
      ]
     },
     "execution_count": 10,
     "metadata": {},
     "output_type": "execute_result"
    }
   ],
   "source": [
    "'''y_pred=logistic_model.predict(X_test)\n",
    "logistic_model.score(X_test,y_test)\n",
    "'''"
   ]
  }
 ],
 "metadata": {
  "kaggle": {
   "accelerator": "none",
   "dataSources": [
    {
     "datasetId": 4133,
     "sourceId": 8841,
     "sourceType": "datasetVersion"
    },
    {
     "datasetId": 2052,
     "sourceId": 131084,
     "sourceType": "datasetVersion"
    }
   ],
   "dockerImageVersionId": 30664,
   "isGpuEnabled": false,
   "isInternetEnabled": true,
   "language": "python",
   "sourceType": "notebook"
  },
  "kernelspec": {
   "display_name": "Python 3",
   "language": "python",
   "name": "python3"
  },
  "language_info": {
   "codemirror_mode": {
    "name": "ipython",
    "version": 3
   },
   "file_extension": ".py",
   "mimetype": "text/x-python",
   "name": "python",
   "nbconvert_exporter": "python",
   "pygments_lexer": "ipython3",
   "version": "3.10.13"
  },
  "papermill": {
   "default_parameters": {},
   "duration": 37.680165,
   "end_time": "2024-03-20T15:24:16.973108",
   "environment_variables": {},
   "exception": null,
   "input_path": "__notebook__.ipynb",
   "output_path": "__notebook__.ipynb",
   "parameters": {},
   "start_time": "2024-03-20T15:23:39.292943",
   "version": "2.5.0"
  }
 },
 "nbformat": 4,
 "nbformat_minor": 5
}
